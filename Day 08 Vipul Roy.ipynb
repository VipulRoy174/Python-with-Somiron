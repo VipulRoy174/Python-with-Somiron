{
 "cells": [
  {
   "cell_type": "code",
   "execution_count": 1,
   "metadata": {},
   "outputs": [],
   "source": [
    "# lstrip() = eliminates or removes the white space on the left of the text\n",
    "# rstrip() = eliminates or removes the white space on the right of the text\n",
    "# strip()  = it removes all the spaces"
   ]
  },
  {
   "cell_type": "code",
   "execution_count": 3,
   "metadata": {},
   "outputs": [
    {
     "name": "stdout",
     "output_type": "stream",
     "text": [
      "vipul roy\n",
      "my name is Vipul Roy\n"
     ]
    }
   ],
   "source": [
    "first = \"vipul\"\n",
    "last = \"roy\"\n",
    "name = \"vipul roy\"\n",
    "fullname = f\"my name is {name.title()}\"\n",
    "print(name)\n",
    "print(fullname)"
   ]
  },
  {
   "cell_type": "code",
   "execution_count": 4,
   "metadata": {},
   "outputs": [
    {
     "name": "stdout",
     "output_type": "stream",
     "text": [
      "      vipul\n"
     ]
    }
   ],
   "source": [
    "name1 = \"      vipul\"\n",
    "print(name1)"
   ]
  },
  {
   "cell_type": "code",
   "execution_count": 5,
   "metadata": {},
   "outputs": [
    {
     "name": "stdout",
     "output_type": "stream",
     "text": [
      "      vipul.lstrip()\n"
     ]
    }
   ],
   "source": [
    "name2 = \"      vipul.lstrip()\"\n",
    "print(name2)"
   ]
  },
  {
   "cell_type": "code",
   "execution_count": 7,
   "metadata": {},
   "outputs": [
    {
     "name": "stdout",
     "output_type": "stream",
     "text": [
      "\t\t\tvipul\n"
     ]
    }
   ],
   "source": [
    "name3 = \"\\t\\t\\tvipul\"\n",
    "print(name3)"
   ]
  },
  {
   "cell_type": "code",
   "execution_count": 8,
   "metadata": {},
   "outputs": [
    {
     "name": "stdout",
     "output_type": "stream",
     "text": [
      "vipul\n"
     ]
    }
   ],
   "source": [
    "name4 = \"\\t\\t\\tvipul\".lstrip()\n",
    "print(name4)"
   ]
  },
  {
   "cell_type": "code",
   "execution_count": null,
   "metadata": {},
   "outputs": [],
   "source": []
  }
 ],
 "metadata": {
  "kernelspec": {
   "display_name": "Python 3",
   "language": "python",
   "name": "python3"
  },
  "language_info": {
   "codemirror_mode": {
    "name": "ipython",
    "version": 3
   },
   "file_extension": ".py",
   "mimetype": "text/x-python",
   "name": "python",
   "nbconvert_exporter": "python",
   "pygments_lexer": "ipython3",
   "version": "3.8.5"
  }
 },
 "nbformat": 4,
 "nbformat_minor": 4
}
