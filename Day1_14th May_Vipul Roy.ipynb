{
 "cells": [
  {
   "cell_type": "code",
   "execution_count": 1,
   "metadata": {},
   "outputs": [],
   "source": [
    "# Python Fundamentals\n"
   ]
  },
  {
   "cell_type": "code",
   "execution_count": 2,
   "metadata": {},
   "outputs": [
    {
     "name": "stdout",
     "output_type": "stream",
     "text": [
      "Hello to all, welcome to the world of Python\n"
     ]
    }
   ],
   "source": [
    "print(\"Hello to all, welcome to the world of Python\")"
   ]
  },
  {
   "cell_type": "code",
   "execution_count": 3,
   "metadata": {},
   "outputs": [
    {
     "data": {
      "text/plain": [
       "14"
      ]
     },
     "execution_count": 3,
     "metadata": {},
     "output_type": "execute_result"
    }
   ],
   "source": [
    "# Req - addition of 2 number\n",
    "\n",
    "7 + 7"
   ]
  },
  {
   "cell_type": "code",
   "execution_count": 4,
   "metadata": {},
   "outputs": [
    {
     "name": "stdout",
     "output_type": "stream",
     "text": [
      "14\n"
     ]
    }
   ],
   "source": [
    "a = 7\n",
    "\n",
    "b = 7\n",
    "\n",
    "print(a + b)"
   ]
  },
  {
   "cell_type": "code",
   "execution_count": 5,
   "metadata": {},
   "outputs": [
    {
     "name": "stdout",
     "output_type": "stream",
     "text": [
      "14\n"
     ]
    }
   ],
   "source": [
    "sum = a + b\n",
    "\n",
    "print(sum)"
   ]
  },
  {
   "cell_type": "code",
   "execution_count": 6,
   "metadata": {},
   "outputs": [
    {
     "name": "stdout",
     "output_type": "stream",
     "text": [
      "enter number a:5\n",
      "enter number b:5\n",
      "addition of a and b is: 10\n"
     ]
    }
   ],
   "source": [
    "a = int(input(\"enter number a:\"))\n",
    "b = int(input(\"enter number b:\"))\n",
    "print(\"addition of a and b is:\",(a+b))"
   ]
  },
  {
   "cell_type": "code",
   "execution_count": 8,
   "metadata": {},
   "outputs": [
    {
     "name": "stdout",
     "output_type": "stream",
     "text": [
      "enter number 1:3\n",
      "enter number 2:5\n",
      "multiplication of c and d is: 15\n"
     ]
    }
   ],
   "source": [
    "c = int(input(\"enter number 1:\"))\n",
    "d = int(input(\"enter number 2:\"))\n",
    "print(\"multiplication of c and d is:\",(c*d))"
   ]
  },
  {
   "cell_type": "code",
   "execution_count": 9,
   "metadata": {},
   "outputs": [],
   "source": [
    "# Data types"
   ]
  },
  {
   "cell_type": "code",
   "execution_count": 10,
   "metadata": {},
   "outputs": [
    {
     "name": "stdout",
     "output_type": "stream",
     "text": [
      "-1 1.9600000000000002 (5-5j)\n"
     ]
    }
   ],
   "source": [
    "a = 10 # Integers\n",
    "\n",
    "b = -11 # Integers\n",
    "\n",
    "c = 3.14 # Float\n",
    "\n",
    "d = 1.18 # Float\n",
    "\n",
    "e = 7 + 4j # Complex\n",
    "\n",
    "f = 2 + 9j # Complex\n",
    "\n",
    "print(a + b, c - d, e - f)"
   ]
  },
  {
   "cell_type": "code",
   "execution_count": null,
   "metadata": {},
   "outputs": [],
   "source": []
  },
  {
   "cell_type": "code",
   "execution_count": 11,
   "metadata": {},
   "outputs": [
    {
     "name": "stdout",
     "output_type": "stream",
     "text": [
      "21 3.7052 (0.5882352941176471-0.6470588235294117j)\n"
     ]
    }
   ],
   "source": [
    "a = 10 \n",
    "\n",
    "b = -11 \n",
    "\n",
    "c = 3.14 \n",
    "\n",
    "d = 1.18 \n",
    "\n",
    "e = 7 + 4j \n",
    "\n",
    "f = 2 + 9j\n",
    "\n",
    "print(a - b, c * d, e / f)"
   ]
  },
  {
   "cell_type": "code",
   "execution_count": null,
   "metadata": {},
   "outputs": [],
   "source": []
  },
  {
   "cell_type": "code",
   "execution_count": null,
   "metadata": {},
   "outputs": [],
   "source": []
  },
  {
   "cell_type": "code",
   "execution_count": null,
   "metadata": {},
   "outputs": [],
   "source": []
  },
  {
   "cell_type": "code",
   "execution_count": null,
   "metadata": {},
   "outputs": [],
   "source": []
  }
 ],
 "metadata": {
  "kernelspec": {
   "display_name": "Python 3",
   "language": "python",
   "name": "python3"
  },
  "language_info": {
   "codemirror_mode": {
    "name": "ipython",
    "version": 3
   },
   "file_extension": ".py",
   "mimetype": "text/x-python",
   "name": "python",
   "nbconvert_exporter": "python",
   "pygments_lexer": "ipython3",
   "version": "3.8.5"
  }
 },
 "nbformat": 4,
 "nbformat_minor": 4
}
