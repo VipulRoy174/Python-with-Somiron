{
 "cells": [
  {
   "cell_type": "code",
   "execution_count": 1,
   "metadata": {},
   "outputs": [
    {
     "name": "stdout",
     "output_type": "stream",
     "text": [
      "Endeavor\n"
     ]
    }
   ],
   "source": [
    "name = \"endeavor\"\n",
    "print(name.title())"
   ]
  },
  {
   "cell_type": "markdown",
   "metadata": {},
   "source": []
  },
  {
   "cell_type": "code",
   "execution_count": 2,
   "metadata": {},
   "outputs": [
    {
     "name": "stdout",
     "output_type": "stream",
     "text": [
      "ENDEAVOR\n"
     ]
    }
   ],
   "source": [
    "name = \"endeavor\"\n",
    "print(name.upper())"
   ]
  },
  {
   "cell_type": "code",
   "execution_count": 3,
   "metadata": {},
   "outputs": [
    {
     "name": "stdout",
     "output_type": "stream",
     "text": [
      "endeavor\n"
     ]
    }
   ],
   "source": [
    "name = \"ENDEAVOR\"\n",
    "print(name.lower())"
   ]
  },
  {
   "cell_type": "code",
   "execution_count": null,
   "metadata": {},
   "outputs": [],
   "source": []
  },
  {
   "cell_type": "code",
   "execution_count": 4,
   "metadata": {},
   "outputs": [],
   "source": [
    "# f string"
   ]
  },
  {
   "cell_type": "code",
   "execution_count": 6,
   "metadata": {},
   "outputs": [
    {
     "name": "stdout",
     "output_type": "stream",
     "text": [
      "vipulroy\n"
     ]
    }
   ],
   "source": [
    "first = \"vipul\"\n",
    "\n",
    "last = \"roy\"\n",
    "\n",
    "sentence = f\"{first}{last}\"\n",
    "\n",
    "print(sentence)"
   ]
  },
  {
   "cell_type": "code",
   "execution_count": 7,
   "metadata": {},
   "outputs": [
    {
     "name": "stdout",
     "output_type": "stream",
     "text": [
      "vipul roy\n"
     ]
    }
   ],
   "source": [
    "first = \"vipul\"\n",
    "\n",
    "last = \"roy\"\n",
    "\n",
    "sentence = f\"{first} {last}\"\n",
    "\n",
    "print(sentence)"
   ]
  },
  {
   "cell_type": "code",
   "execution_count": 8,
   "metadata": {},
   "outputs": [
    {
     "name": "stdout",
     "output_type": "stream",
     "text": [
      "Vipul Roy\n"
     ]
    }
   ],
   "source": [
    "first = \"vipul\"\n",
    "\n",
    "last = \"roy\"\n",
    "\n",
    "sentence = f\"{first.title()} {last.title()}\"\n",
    "\n",
    "print(sentence)"
   ]
  },
  {
   "cell_type": "code",
   "execution_count": 9,
   "metadata": {},
   "outputs": [
    {
     "name": "stdout",
     "output_type": "stream",
     "text": [
      "VIPUL ROY\n"
     ]
    }
   ],
   "source": [
    "first = \"vipul\"\n",
    "\n",
    "last = \"roy\"\n",
    "\n",
    "sentence = f\"{first.upper()} {last.upper()}\"\n",
    "\n",
    "print(sentence)"
   ]
  },
  {
   "cell_type": "code",
   "execution_count": 10,
   "metadata": {},
   "outputs": [
    {
     "name": "stdout",
     "output_type": "stream",
     "text": [
      "Vipul Endeavor Roy\n"
     ]
    }
   ],
   "source": [
    "first1 = \"endeavor\"\n",
    "sentence1 = f\"{first.title()} {first1.title()} {last.title()}\"\n",
    "print(sentence1)"
   ]
  },
  {
   "cell_type": "code",
   "execution_count": null,
   "metadata": {},
   "outputs": [],
   "source": []
  }
 ],
 "metadata": {
  "kernelspec": {
   "display_name": "Python 3",
   "language": "python",
   "name": "python3"
  },
  "language_info": {
   "codemirror_mode": {
    "name": "ipython",
    "version": 3
   },
   "file_extension": ".py",
   "mimetype": "text/x-python",
   "name": "python",
   "nbconvert_exporter": "python",
   "pygments_lexer": "ipython3",
   "version": "3.8.5"
  }
 },
 "nbformat": 4,
 "nbformat_minor": 4
}
